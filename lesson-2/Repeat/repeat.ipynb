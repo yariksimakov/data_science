{
 "cells": [
  {
   "cell_type": "code",
   "execution_count": 2,
   "metadata": {
    "collapsed": true
   },
   "outputs": [],
   "source": [
    "import numpy as np\n",
    "import pandas as pd"
   ]
  },
  {
   "cell_type": "code",
   "execution_count": 3,
   "outputs": [
    {
     "data": {
      "text/plain": "array([12, 13, 14, 15, 16, 17, 18, 19, 20, 21, 22, 23])"
     },
     "execution_count": 3,
     "metadata": {},
     "output_type": "execute_result"
    }
   ],
   "source": [
    "a = np.arange(12, 24)\n",
    "a"
   ],
   "metadata": {
    "collapsed": false,
    "pycharm": {
     "name": "#%%\n"
    }
   }
  },
  {
   "cell_type": "markdown",
   "source": [
    "### task 2\n",
    "\n",
    "Создать 5 двумерных массивов разной формы из массива a.\n",
    "Не использовать в аргументах метода reshape число -1."
   ],
   "metadata": {
    "collapsed": false,
    "pycharm": {
     "name": "#%% md\n"
    }
   }
  },
  {
   "cell_type": "code",
   "execution_count": 4,
   "outputs": [
    {
     "name": "stdout",
     "output_type": "stream",
     "text": [
      "[[12 13 14]\n",
      " [15 16 17]\n",
      " [18 19 20]\n",
      " [21 22 23]]\n",
      "\n",
      "[[12 13 14 15]\n",
      " [16 17 18 19]\n",
      " [20 21 22 23]]\n",
      "\n",
      "[[12 13]\n",
      " [14 15]\n",
      " [16 17]\n",
      " [18 19]\n",
      " [20 21]\n",
      " [22 23]]\n",
      "\n",
      "[[12 13 14 15 16 17]\n",
      " [18 19 20 21 22 23]]\n",
      "\n",
      "[[12]\n",
      " [13]\n",
      " [14]\n",
      " [15]\n",
      " [16]\n",
      " [17]\n",
      " [18]\n",
      " [19]\n",
      " [20]\n",
      " [21]\n",
      " [22]\n",
      " [23]]\n",
      "\n",
      "[[[12 13]\n",
      "  [14 15]]\n",
      "\n",
      " [[16 17]\n",
      "  [18 19]]\n",
      "\n",
      " [[20 21]\n",
      "  [22 23]]]\tthree dimensions\n"
     ]
    }
   ],
   "source": [
    "print(a.reshape(4, 3), end='\\n\\n')\n",
    "print(a.reshape(3, 4), end='\\n\\n')\n",
    "print(np.reshape(a, (6, 2)), end='\\n\\n')\n",
    "print(np.reshape(a, (2, 6)), end='\\n\\n')\n",
    "print(np.reshape(a, (12, 1)), end='\\n\\n')\n",
    "print(np.reshape(a, (3, 2, 2)), 'three dimensions', sep='\\t')"
   ],
   "metadata": {
    "collapsed": false,
    "pycharm": {
     "name": "#%%\n"
    }
   }
  },
  {
   "cell_type": "markdown",
   "source": [
    "### task 3\n",
    "\n",
    "Создать 5 двумерных массивов разной формы из массива a. Использовать\n",
    "в аргументах метода reshape число -1 (в трех примерах - для обозначения\n",
    "числа столбцов, в двух - для строк)."
   ],
   "metadata": {
    "collapsed": false,
    "pycharm": {
     "name": "#%% md\n"
    }
   }
  },
  {
   "cell_type": "code",
   "execution_count": 5,
   "outputs": [
    {
     "name": "stdout",
     "output_type": "stream",
     "text": [
      "[[12 13]\n",
      " [14 15]\n",
      " [16 17]\n",
      " [18 19]\n",
      " [20 21]\n",
      " [22 23]]\n",
      "\n",
      "[[12 13 14 15]\n",
      " [16 17 18 19]\n",
      " [20 21 22 23]]\n",
      "\n",
      "[[12]\n",
      " [13]\n",
      " [14]\n",
      " [15]\n",
      " [16]\n",
      " [17]\n",
      " [18]\n",
      " [19]\n",
      " [20]\n",
      " [21]\n",
      " [22]\n",
      " [23]]\n",
      "\n",
      "[[12 13 14 15 16 17]\n",
      " [18 19 20 21 22 23]]\n",
      "\n",
      "[[12 13]\n",
      " [14 15]\n",
      " [16 17]\n",
      " [18 19]\n",
      " [20 21]\n",
      " [22 23]]\n"
     ]
    }
   ],
   "source": [
    "print(a.reshape(-1, 2), end='\\n\\n')\n",
    "print(a.reshape(-1, 4), end='\\n\\n')\n",
    "print(np.reshape(a, (12, -1)), end='\\n\\n')\n",
    "print(np.reshape(a, (2, -1)), end='\\n\\n')\n",
    "print(a.reshape(6, -1))"
   ],
   "metadata": {
    "collapsed": false,
    "pycharm": {
     "name": "#%%\n"
    }
   }
  },
  {
   "cell_type": "markdown",
   "source": [
    "## task 4\n",
    "\n",
    "Можно ли массив Numpy, состоящий из одного столбца и 12 строк,\n",
    "назвать одномерным?\n",
    "\n",
    "Answer: Not"
   ],
   "metadata": {
    "collapsed": false,
    "pycharm": {
     "name": "#%% md\n"
    }
   }
  },
  {
   "cell_type": "markdown",
   "source": [
    "### task 5\n",
    "\n",
    "Создать массив из 3 строк и 4 столбцов, состоящий из случайных\n",
    "чисел с плавающей запятой из нормального распределения со средним,\n",
    "равным 0 и среднеквадратичным отклонением, равным 1.0. Получить из\n",
    "этого массива одномерный массив с таким же атрибутом size, как и\n",
    "исходный массив."
   ],
   "metadata": {
    "collapsed": false,
    "pycharm": {
     "name": "#%% md\n"
    }
   }
  },
  {
   "cell_type": "code",
   "execution_count": 6,
   "outputs": [
    {
     "data": {
      "text/plain": "array([[-2.11245815,  0.18213256, -0.82078082, -1.93358715],\n       [ 2.12068897,  0.68381399,  0.1449369 , -0.15384873],\n       [-0.34254067, -0.45278841, -1.16776255,  0.72672241]])"
     },
     "execution_count": 6,
     "metadata": {},
     "output_type": "execute_result"
    }
   ],
   "source": [
    "an = np.random.randn(3, 4)\n",
    "an"
   ],
   "metadata": {
    "collapsed": false,
    "pycharm": {
     "name": "#%%\n"
    }
   }
  },
  {
   "cell_type": "code",
   "execution_count": 7,
   "outputs": [
    {
     "data": {
      "text/plain": "True"
     },
     "execution_count": 7,
     "metadata": {},
     "output_type": "execute_result"
    }
   ],
   "source": [
    "a_dimension_1 =  an.flatten()\n",
    "\n",
    "an.size == a_dimension_1.size"
   ],
   "metadata": {
    "collapsed": false,
    "pycharm": {
     "name": "#%%\n"
    }
   }
  },
  {
   "cell_type": "markdown",
   "source": [
    "### task 6\n",
    "\n",
    "Создать массив a, состоящий из целых чисел, убывающих\n",
    "от 20 до 0 невключительно с интервалом 2."
   ],
   "metadata": {
    "collapsed": false
   }
  },
  {
   "cell_type": "code",
   "execution_count": 8,
   "outputs": [
    {
     "data": {
      "text/plain": "array([20, 18, 16, 14, 12, 10,  8,  6,  4,  2])"
     },
     "execution_count": 8,
     "metadata": {},
     "output_type": "execute_result"
    }
   ],
   "source": [
    "a = np.arange(20, 0, -2)\n",
    "a"
   ],
   "metadata": {
    "collapsed": false,
    "pycharm": {
     "name": "#%%\n"
    }
   }
  },
  {
   "cell_type": "markdown",
   "source": [
    "### task 7\n",
    "\n",
    "Создать массив b, состоящий из 1 строки и 10 столбцов: целых\n",
    "чисел, убывающих от 20 до 1 невключительно с интервалом 2. В чем\n",
    "разница между массивами a и b?"
   ],
   "metadata": {
    "collapsed": false
   }
  },
  {
   "cell_type": "code",
   "execution_count": 9,
   "outputs": [
    {
     "data": {
      "text/plain": "array([20, 18, 16, 14, 12, 10,  8,  6,  4,  2])"
     },
     "execution_count": 9,
     "metadata": {},
     "output_type": "execute_result"
    }
   ],
   "source": [
    "b = np.array([ i for i in  range(20, 1, -2)])\n",
    "b"
   ],
   "metadata": {
    "collapsed": false,
    "pycharm": {
     "name": "#%%\n"
    }
   }
  },
  {
   "cell_type": "code",
   "execution_count": 10,
   "outputs": [
    {
     "name": "stdout",
     "output_type": "stream",
     "text": [
      "True\n",
      "True\n"
     ]
    }
   ],
   "source": [
    "print(type(a) == type(b))\n",
    "print(a.size == b.size)"
   ],
   "metadata": {
    "collapsed": false,
    "pycharm": {
     "name": "#%%\n"
    }
   }
  },
  {
   "cell_type": "markdown",
   "source": [
    "### There is no difference between array a and b"
   ],
   "metadata": {
    "collapsed": false,
    "pycharm": {
     "name": "#%% md\n"
    }
   }
  },
  {
   "cell_type": "markdown",
   "source": [
    "### task 8\n",
    "\n",
    "Вертикально соединить массивы a и b. a - двумерный массив из\n",
    "нулей, число строк которого больше 1 и на 1 меньше, чем число\n",
    "строк двумерного массива b, состоящего из единиц. Итоговый массив v\n",
    "должен иметь атрибут size, равный 10."
   ],
   "metadata": {
    "collapsed": false,
    "pycharm": {
     "name": "#%% md\n"
    }
   }
  },
  {
   "cell_type": "code",
   "execution_count": 23,
   "outputs": [
    {
     "name": "stdout",
     "output_type": "stream",
     "text": [
      "[[0. 0.]\n",
      " [0. 0.]]\n",
      "\n",
      "[[1. 1.]\n",
      " [1. 1.]\n",
      " [1. 1.]]\n",
      "True\n"
     ]
    },
    {
     "data": {
      "text/plain": "array([[0., 0.],\n       [0., 0.],\n       [1., 1.],\n       [1., 1.],\n       [1., 1.]])"
     },
     "execution_count": 23,
     "metadata": {},
     "output_type": "execute_result"
    }
   ],
   "source": [
    "a = np.zeros((2, 2))\n",
    "b = np.ones((3, 2))\n",
    "print(a, end='\\n\\n')\n",
    "print(b)\n",
    "v = np.concatenate((a, b), axis=0)\n",
    "# v = np.vstack((a, b))\n",
    "print(v.size==10)\n",
    "v"
   ],
   "metadata": {
    "collapsed": false,
    "pycharm": {
     "name": "#%%\n"
    }
   }
  },
  {
   "cell_type": "markdown",
   "source": [
    "### task 9\n",
    "\n",
    "Создать одномерный массив а, состоящий из последовательности целых\n",
    "чисел от 0 до 12. Поменять форму этого массива, чтобы получилась\n",
    "матрица A (двумерный массив Numpy), состоящая из 4 строк и 3 столбцов.\n",
    "Получить матрицу At путем транспонирования матрицы A. Получить матрицу B,\n",
    "умножив матрицу A на матрицу At с помощью матричного умножения. Какой\n",
    "размер имеет матрица B? Получится ли вычислить обратную матрицу для\n",
    "матрицы B и почему?"
   ],
   "metadata": {
    "collapsed": false
   }
  },
  {
   "cell_type": "code",
   "execution_count": 97,
   "outputs": [
    {
     "name": "stdout",
     "output_type": "stream",
     "text": [
      "[[  5  14  23  32]\n",
      " [ 14  50  86 122]\n",
      " [ 23  86 149 212]\n",
      " [ 32 122 212 302]]\n"
     ]
    },
    {
     "ename": "LinAlgError",
     "evalue": "Singular matrix",
     "output_type": "error",
     "traceback": [
      "\u001B[1;31m---------------------------------------------------------------------------\u001B[0m",
      "\u001B[1;31mLinAlgError\u001B[0m                               Traceback (most recent call last)",
      "\u001B[1;32m~\\AppData\\Local\\Temp/ipykernel_3892/1324616981.py\u001B[0m in \u001B[0;36m<module>\u001B[1;34m\u001B[0m\n\u001B[0;32m      4\u001B[0m \u001B[0mB\u001B[0m \u001B[1;33m=\u001B[0m \u001B[0mA\u001B[0m\u001B[1;33m.\u001B[0m\u001B[0mdot\u001B[0m\u001B[1;33m(\u001B[0m\u001B[0mAt\u001B[0m\u001B[1;33m)\u001B[0m\u001B[1;33m\u001B[0m\u001B[1;33m\u001B[0m\u001B[0m\n\u001B[0;32m      5\u001B[0m \u001B[0mprint\u001B[0m\u001B[1;33m(\u001B[0m\u001B[0mB\u001B[0m\u001B[1;33m)\u001B[0m\u001B[1;33m\u001B[0m\u001B[1;33m\u001B[0m\u001B[0m\n\u001B[1;32m----> 6\u001B[1;33m \u001B[0mnp\u001B[0m\u001B[1;33m.\u001B[0m\u001B[0mlinalg\u001B[0m\u001B[1;33m.\u001B[0m\u001B[0minv\u001B[0m\u001B[1;33m(\u001B[0m\u001B[0mB\u001B[0m\u001B[1;33m)\u001B[0m\u001B[1;33m\u001B[0m\u001B[1;33m\u001B[0m\u001B[0m\n\u001B[0m",
      "\u001B[1;32m<__array_function__ internals>\u001B[0m in \u001B[0;36minv\u001B[1;34m(*args, **kwargs)\u001B[0m\n",
      "\u001B[1;32mc:\\users\\user\\desktop\\data-science\\venv\\lib\\site-packages\\numpy\\linalg\\linalg.py\u001B[0m in \u001B[0;36minv\u001B[1;34m(a)\u001B[0m\n\u001B[0;32m    543\u001B[0m     \u001B[0msignature\u001B[0m \u001B[1;33m=\u001B[0m \u001B[1;34m'D->D'\u001B[0m \u001B[1;32mif\u001B[0m \u001B[0misComplexType\u001B[0m\u001B[1;33m(\u001B[0m\u001B[0mt\u001B[0m\u001B[1;33m)\u001B[0m \u001B[1;32melse\u001B[0m \u001B[1;34m'd->d'\u001B[0m\u001B[1;33m\u001B[0m\u001B[1;33m\u001B[0m\u001B[0m\n\u001B[0;32m    544\u001B[0m     \u001B[0mextobj\u001B[0m \u001B[1;33m=\u001B[0m \u001B[0mget_linalg_error_extobj\u001B[0m\u001B[1;33m(\u001B[0m\u001B[0m_raise_linalgerror_singular\u001B[0m\u001B[1;33m)\u001B[0m\u001B[1;33m\u001B[0m\u001B[1;33m\u001B[0m\u001B[0m\n\u001B[1;32m--> 545\u001B[1;33m     \u001B[0mainv\u001B[0m \u001B[1;33m=\u001B[0m \u001B[0m_umath_linalg\u001B[0m\u001B[1;33m.\u001B[0m\u001B[0minv\u001B[0m\u001B[1;33m(\u001B[0m\u001B[0ma\u001B[0m\u001B[1;33m,\u001B[0m \u001B[0msignature\u001B[0m\u001B[1;33m=\u001B[0m\u001B[0msignature\u001B[0m\u001B[1;33m,\u001B[0m \u001B[0mextobj\u001B[0m\u001B[1;33m=\u001B[0m\u001B[0mextobj\u001B[0m\u001B[1;33m)\u001B[0m\u001B[1;33m\u001B[0m\u001B[1;33m\u001B[0m\u001B[0m\n\u001B[0m\u001B[0;32m    546\u001B[0m     \u001B[1;32mreturn\u001B[0m \u001B[0mwrap\u001B[0m\u001B[1;33m(\u001B[0m\u001B[0mainv\u001B[0m\u001B[1;33m.\u001B[0m\u001B[0mastype\u001B[0m\u001B[1;33m(\u001B[0m\u001B[0mresult_t\u001B[0m\u001B[1;33m,\u001B[0m \u001B[0mcopy\u001B[0m\u001B[1;33m=\u001B[0m\u001B[1;32mFalse\u001B[0m\u001B[1;33m)\u001B[0m\u001B[1;33m)\u001B[0m\u001B[1;33m\u001B[0m\u001B[1;33m\u001B[0m\u001B[0m\n\u001B[0;32m    547\u001B[0m \u001B[1;33m\u001B[0m\u001B[0m\n",
      "\u001B[1;32mc:\\users\\user\\desktop\\data-science\\venv\\lib\\site-packages\\numpy\\linalg\\linalg.py\u001B[0m in \u001B[0;36m_raise_linalgerror_singular\u001B[1;34m(err, flag)\u001B[0m\n\u001B[0;32m     86\u001B[0m \u001B[1;33m\u001B[0m\u001B[0m\n\u001B[0;32m     87\u001B[0m \u001B[1;32mdef\u001B[0m \u001B[0m_raise_linalgerror_singular\u001B[0m\u001B[1;33m(\u001B[0m\u001B[0merr\u001B[0m\u001B[1;33m,\u001B[0m \u001B[0mflag\u001B[0m\u001B[1;33m)\u001B[0m\u001B[1;33m:\u001B[0m\u001B[1;33m\u001B[0m\u001B[1;33m\u001B[0m\u001B[0m\n\u001B[1;32m---> 88\u001B[1;33m     \u001B[1;32mraise\u001B[0m \u001B[0mLinAlgError\u001B[0m\u001B[1;33m(\u001B[0m\u001B[1;34m\"Singular matrix\"\u001B[0m\u001B[1;33m)\u001B[0m\u001B[1;33m\u001B[0m\u001B[1;33m\u001B[0m\u001B[0m\n\u001B[0m\u001B[0;32m     89\u001B[0m \u001B[1;33m\u001B[0m\u001B[0m\n\u001B[0;32m     90\u001B[0m \u001B[1;32mdef\u001B[0m \u001B[0m_raise_linalgerror_nonposdef\u001B[0m\u001B[1;33m(\u001B[0m\u001B[0merr\u001B[0m\u001B[1;33m,\u001B[0m \u001B[0mflag\u001B[0m\u001B[1;33m)\u001B[0m\u001B[1;33m:\u001B[0m\u001B[1;33m\u001B[0m\u001B[1;33m\u001B[0m\u001B[0m\n",
      "\u001B[1;31mLinAlgError\u001B[0m: Singular matrix"
     ]
    }
   ],
   "source": [
    "a = np.arange(0, 12)\n",
    "A = a.reshape(4, 3)\n",
    "At = A.T\n",
    "B = A.dot(At)\n",
    "print(B)\n",
    "np.linalg.inv(B)"
   ],
   "metadata": {
    "collapsed": false,
    "pycharm": {
     "name": "#%%\n"
    }
   }
  },
  {
   "cell_type": "markdown",
   "source": [
    "Какой размер имеет матрица B?\n",
    "Answer: we get a 3-by-3 or 4-by-4 matrix.\n",
    "\n",
    "Получится ли вычислить обратную матрицу для матрицы B и почему?\n",
    "Answer: it is possible, if B = At.dot (A), this matrix is square,\n",
    "otherwise there is no B = A.dot (At), because\n",
    "this singular matrix"
   ],
   "metadata": {
    "collapsed": false
   }
  },
  {
   "cell_type": "markdown",
   "source": [
    "### task 10\n",
    "\n",
    "Инициализируйте генератор случайных числе с помощью объекта\n",
    "seed, равного 42."
   ],
   "metadata": {
    "collapsed": false
   }
  },
  {
   "cell_type": "code",
   "execution_count": 77,
   "outputs": [
    {
     "data": {
      "text/plain": "0.3745401188473625"
     },
     "execution_count": 77,
     "metadata": {},
     "output_type": "execute_result"
    }
   ],
   "source": [
    "np.random.seed(42)\n",
    "np.random.sample()"
   ],
   "metadata": {
    "collapsed": false,
    "pycharm": {
     "name": "#%%\n"
    }
   }
  },
  {
   "cell_type": "markdown",
   "source": [
    "### task 11\n",
    "\n",
    "Создайте одномерный массив c, составленный из последовательности\n",
    "16-ти случайных равномерно распределенных целых чисел от 0 до 16\n",
    "невключительно."
   ],
   "metadata": {
    "collapsed": false
   }
  },
  {
   "cell_type": "code",
   "execution_count": 87,
   "outputs": [
    {
     "data": {
      "text/plain": "array([11,  1,  0, 15,  6,  6, 13,  7,  4,  2, 11,  7,  5, 10,  2,  0])"
     },
     "execution_count": 87,
     "metadata": {},
     "output_type": "execute_result"
    }
   ],
   "source": [
    "an = np.random.randint(low=0, high=16, size=16)\n",
    "an"
   ],
   "metadata": {
    "collapsed": false,
    "pycharm": {
     "name": "#%%\n"
    }
   }
  },
  {
   "cell_type": "markdown",
   "source": [
    "### task 12\n",
    "\n",
    "Поменяйте его форму так, чтобы получилась квадратная матрица C.\n",
    "Получите матрицу D, поэлементно прибавив матрицу B из предыдущего\n",
    "вопроса к матрице C, умноженной на 10. Вычислите определитель, ранг\n",
    "и обратную матрицу D_inv для D."
   ],
   "metadata": {
    "collapsed": false
   }
  },
  {
   "cell_type": "code",
   "execution_count": 123,
   "outputs": [
    {
     "name": "stdout",
     "output_type": "stream",
     "text": [
      "3.7002e+37\n",
      "4\n"
     ]
    },
    {
     "data": {
      "text/plain": "array([[-3.44508627e-11, -2.32830644e-10,  1.33039993e-10,\n         2.67281507e-10],\n       [-2.32830644e-10,  2.32830642e-10,  2.32830642e-10,\n        -2.32830644e-10],\n       [ 1.33039991e-10,  2.32830644e-10,  3.17157525e-10,\n         9.97906515e-11],\n       [ 2.67281506e-10, -2.32830641e-10,  9.97906523e-11,\n        -2.67281507e-10]])"
     },
     "execution_count": 123,
     "metadata": {},
     "output_type": "execute_result"
    }
   ],
   "source": [
    "C = an.reshape(4,4)\n",
    "B = B * 10\n",
    "D = np.add(C, B)\n",
    "print(np.float32(np.linalg.det(D)))\n",
    "print(np.linalg.matrix_rank(D))\n",
    "D_inv = np.linalg.inv(D)\n",
    "D_inv"
   ],
   "metadata": {
    "collapsed": false,
    "pycharm": {
     "name": "#%%\n"
    }
   }
  },
  {
   "cell_type": "markdown",
   "source": [
    "### Task 13\n",
    "\n",
    "Приравняйте к нулю отрицательные числа в матрице D_inv,\n",
    "а положительные - к единице. Убедитесь, что в матрице D_inv остались\n",
    "только нули и единицы. С помощью функции numpy.where, используя\n",
    "матрицу D_inv в качестве маски, а матрицы B и C - в качестве источников\n",
    "данных, получите матрицу E размером 4x4.  Элементы матрицы E, для\n",
    "которых соответствующий элемент матрицы D_inv равен 1, должны быть\n",
    "равны соответствующему элементу матрицы B, а элементы матрицы E,\n",
    "для которых соответствующий элемент матрицы D_inv равен 0, должны\n",
    "быть равны соответствующему элементу матрицы C."
   ],
   "metadata": {
    "collapsed": false
   }
  },
  {
   "cell_type": "code",
   "execution_count": 137,
   "outputs": [
    {
     "name": "stdout",
     "output_type": "stream",
     "text": [
      "[[0. 0. 1. 1.]\n",
      " [0. 0. 1. 0.]\n",
      " [1. 1. 1. 1.]\n",
      " [1. 0. 1. 0.]]\n",
      "[[-1316487168 -1968177152  1675100160  1023410176]\n",
      " [-1968177152  -279969792  1408237568 -1198522368]\n",
      " [ 1675100160  1408237568  1141374976   874512384]\n",
      " [ 1023410176 -1198522368   874512384 -1347420160]] B\n",
      "[[11  1  0 15]\n",
      " [ 6  6 13  7]\n",
      " [ 4  2 11  7]\n",
      " [ 5 10  2  0]] C\n"
     ]
    },
    {
     "data": {
      "text/plain": "array([[        11,          1, 1675100160, 1023410176],\n       [         6,          6, 1408237568,          7],\n       [1675100160, 1408237568, 1141374976,  874512384],\n       [1023410176,         10,  874512384,          0]])"
     },
     "execution_count": 137,
     "metadata": {},
     "output_type": "execute_result"
    }
   ],
   "source": [
    "D_inv[D > 0] = 1\n",
    "D_inv[D < 0] = 0\n",
    "print(D_inv)\n",
    "print(B, 'B')\n",
    "print(C, 'C')\n",
    "E = B.copy()\n",
    "E[np.where(D_inv == 0)] = C[np.where(D_inv == 0)]\n",
    "E"
   ],
   "metadata": {
    "collapsed": false,
    "pycharm": {
     "name": "#%%\n"
    }
   }
  }
 ],
 "metadata": {
  "kernelspec": {
   "display_name": "Python 3",
   "language": "python",
   "name": "python3"
  },
  "language_info": {
   "codemirror_mode": {
    "name": "ipython",
    "version": 2
   },
   "file_extension": ".py",
   "mimetype": "text/x-python",
   "name": "python",
   "nbconvert_exporter": "python",
   "pygments_lexer": "ipython2",
   "version": "2.7.6"
  }
 },
 "nbformat": 4,
 "nbformat_minor": 0
}